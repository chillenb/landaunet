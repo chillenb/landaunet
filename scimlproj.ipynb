{
 "cells": [
  {
   "cell_type": "code",
   "execution_count": 975,
   "id": "5f695624-1bd7-47d0-b022-d6e58d0ab54d",
   "metadata": {},
   "outputs": [],
   "source": [
    "import jax\n",
    "import jax.numpy as jnp\n",
    "import jax.experimental.mesh_utils as mesh_utils\n",
    "import jax.numpy as jnp\n",
    "import jax.random as jr\n",
    "import jax.sharding as sharding"
   ]
  },
  {
   "cell_type": "code",
   "execution_count": 976,
   "id": "cd442eb0-a5ff-418e-bc9c-75b0203e38e0",
   "metadata": {
    "scrolled": true
   },
   "outputs": [],
   "source": [
    "%%capture\n",
    "!pip install equinox\n",
    "!pip install easydict\n",
    "!pip install jaxopt"
   ]
  },
  {
   "cell_type": "code",
   "execution_count": 977,
   "id": "cb86bd39-f49c-456d-805b-437883c6a251",
   "metadata": {},
   "outputs": [],
   "source": [
    "import equinox as eqx\n",
    "import matplotlib.pyplot as plt\n",
    "from easydict import EasyDict as edict\n",
    "import jaxopt"
   ]
  },
  {
   "cell_type": "code",
   "execution_count": 978,
   "id": "eb9cbe02-ed33-470e-b36a-4a078d83b568",
   "metadata": {},
   "outputs": [],
   "source": [
    "import jax.numpy as jnp\n",
    "\n",
    "\n",
    "# Function space\n",
    "class UnitNormVec3RF:\n",
    "    def __init__(self,  N=12, prngkey=None):\n",
    "        if prngkey is not None:\n",
    "            self.key = prngkey\n",
    "        else:\n",
    "            self.key = jax.random.PRNGKey(1701)\n",
    "        self.N = N\n",
    "\n",
    "        self.freqs = 2*jnp.pi*jnp.arange(-N*1.0, N+1.0, 1.0)\n",
    "        self.fsize = 2*N+1\n",
    "\n",
    "    def random(self, size):\n",
    "        magnitudes = (jax.random.normal(self.key, (size, 2 * (self.fsize)**2)) +\n",
    "                      1j*jax.random.normal(self.key, (size, 2 * (self.fsize)**2))) \\\n",
    "                      * 1/(2*self.fsize)**2\n",
    "\n",
    "        return magnitudes\n",
    "\n",
    "    def eval_batch(self, features, xs):\n",
    "        x_tr = jnp.exp(1j*jnp.outer(xs[:,0], self.freqs))\n",
    "        y_tr = jnp.exp(1j*jnp.outer(xs[:,1], self.freqs))\n",
    "\n",
    "        f = jnp.reshape(features, (-1, self.freqs.size, self.freqs.size, 2))\n",
    "        Z = jnp.einsum('abc,qb,qc->aq', f[...,0], x_tr, y_tr).real\n",
    "        factor = jnp.sin(jnp.pi*xs[:,0])*jnp.sin(jnp.pi*xs[:,1])\n",
    "        Z = (1.0-factor) + Z*factor\n",
    "        normxy = jnp.sqrt(jnp.maximum(1.0-Z**2,0.0))\n",
    "        XY = jnp.einsum('abc,qb,qc->aq', f[...,1], x_tr, y_tr)\n",
    "        XY = jnp.exp(1j*2*jnp.pi*XY.imag)\n",
    "        X = normxy * XY.real\n",
    "        Y = normxy * XY.imag\n",
    "\n",
    "        return jnp.stack([X,Y,Z],axis=1)\n"
   ]
  },
  {
   "cell_type": "code",
   "execution_count": 1277,
   "id": "444b4aed-9a71-4c9c-83f8-958431544655",
   "metadata": {},
   "outputs": [],
   "source": [
    "space = UnitNormVec3RF(N=3)"
   ]
  },
  {
   "cell_type": "code",
   "execution_count": 1278,
   "id": "0b71693f-8558-41f9-acc3-85f329ff5b90",
   "metadata": {},
   "outputs": [],
   "source": [
    "r = space.random(2)"
   ]
  },
  {
   "cell_type": "code",
   "execution_count": 1275,
   "id": "835b0ace-09f6-4f1d-a215-96a8866183d9",
   "metadata": {},
   "outputs": [],
   "source": [
    "config = edict()\n",
    "config.nmesh_size1d = 16\n",
    "config.ntime = 200\n",
    "config.maxtime = 20\n",
    "config.btwidth = 1024\n",
    "config.branchnet_layersizes = [3*config.nmesh_size1d**2, config.btwidth*3, config.btwidth*3]\n",
    "config.trunknet_layersizes = [3, 1024, 1024, config.btwidth]\n",
    "config.icweight = 1\n",
    "config.bcweight = 1\n",
    "config.normlossweight = 1\n",
    "config.batchsize = 64\n",
    "config.activation = jax.nn.relu\n",
    "mkey = jax.random.PRNGKey(2031)\n",
    "n = config.nmesh_size1d"
   ]
  },
  {
   "cell_type": "code",
   "execution_count": 1279,
   "id": "b8cf0a05-824f-4348-856d-e12350e12c3b",
   "metadata": {},
   "outputs": [],
   "source": [
    "\n",
    "\n",
    "x = jnp.linspace(0,1,config.nmesh_size1d)\n",
    "X, Y = jnp.meshgrid(x, x)\n",
    "pts = jnp.stack([X.flatten(), Y.flatten()], axis=1)\n",
    "example_u0 = space.eval_batch(r[0], pts)\n",
    "example_u0 = jnp.reshape(example_u0, (3, n, n))\n",
    "\n",
    "time_mesh = jnp.linspace(0, config.maxtime, config.ntime)\n",
    "\n",
    "def pts_prod_time(xy, t):\n",
    "    nt = len(t)\n",
    "    nxy = len(xy)\n",
    "    return jnp.hstack([jnp.tile(xy, (nt, 1)), (t[:,None]*jnp.ones((1,nxy))).reshape(nxy*nt, 1)])\n",
    "\n",
    "spacetimepts = pts_prod_time(pts,time_mesh)"
   ]
  },
  {
   "cell_type": "code",
   "execution_count": 1250,
   "id": "4c821979-58e3-4482-8eb7-135a87abef3b",
   "metadata": {},
   "outputs": [
    {
     "data": {
      "text/plain": [
       "Array([[ 0.        ,  0.        ,  0.        ],\n",
       "       [ 0.06666667,  0.        ,  0.        ],\n",
       "       [ 0.13333334,  0.        ,  0.        ],\n",
       "       ...,\n",
       "       [ 0.86666673,  1.        , 20.        ],\n",
       "       [ 0.9333334 ,  1.        , 20.        ],\n",
       "       [ 1.        ,  1.        , 20.        ]], dtype=float32)"
      ]
     },
     "execution_count": 1250,
     "metadata": {},
     "output_type": "execute_result"
    }
   ],
   "source": [
    "spacetimepts"
   ]
  },
  {
   "cell_type": "code",
   "execution_count": 1251,
   "id": "c5b75456-e66f-4ec1-8626-69e2ed14cde8",
   "metadata": {},
   "outputs": [],
   "source": [
    "bx0 = pts[jnp.where(pts[:,0]==0)[0]]\n",
    "bx1 = pts[jnp.where(pts[:,0]==1)[0]]\n",
    "by0 = pts[jnp.where(pts[:,1]==0)[0]]\n",
    "by1 = pts[jnp.where(pts[:,1]==1)[0]]\n",
    "\n",
    "\n",
    "bcx0=pts_prod_time(bx0,time_mesh)\n",
    "bcx1=pts_prod_time(bx1,time_mesh)\n",
    "bcy0=pts_prod_time(by0,time_mesh)\n",
    "bcy1=pts_prod_time(by1,time_mesh)\n",
    "\n",
    "\n",
    "bx0 = pts[jnp.where(pts[:,0]==0)[0]]\n",
    "bx1 = pts[jnp.where(pts[:,0]==1)[0]]\n",
    "by0 = pts[jnp.where(pts[:,1]==0)[0]]\n",
    "by1 = pts[jnp.where(pts[:,1]==1)[0]]"
   ]
  },
  {
   "cell_type": "code",
   "execution_count": 1252,
   "id": "78d59c85-ff42-48be-aea7-bac4495a7ca1",
   "metadata": {},
   "outputs": [],
   "source": [
    "bcpts_where = jnp.where((pts[:,0]==0) | (pts[:,0]==1) | (pts[:,1]==1) | (pts[:,1]==0))\n",
    "allbcpts = pts_prod_time(pts[bcpts_where], time_mesh)\n"
   ]
  },
  {
   "cell_type": "code",
   "execution_count": 986,
   "id": "6ad8498b-ecc2-4f90-ac8a-312c699ab22f",
   "metadata": {},
   "outputs": [],
   "source": [
    "class BranchNet(eqx.Module):\n",
    "    # convlayers: list\n",
    "    layers: list\n",
    "\n",
    "    def __init__(self, key, configuration):\n",
    "        lsz = configuration.branchnet_layersizes\n",
    "        ktup = jax.random.split(key, num=len(lsz)+2)\n",
    "        # convlayers = [eqx.nn.Conv(num_spatial_dims=2, in_channels=3, out_channels=6, kernel_size=3, padding=1, key=ktup[-1]),\n",
    "        #           eqx.nn.Conv(num_spatial_dims=2, in_channels=6, out_channels=6, kernel_size=3, padding=1, key=ktup[-2]),\n",
    "        #             eqx.nn.Conv(num_spatial_dims=2, in_channels=6, out_channels=6, kernel_size=5, padding=2, key=ktup[-3]),\n",
    "        #          ]\n",
    "        #for i in range(len(lsz)-1):\n",
    "        #    layers.append(eqx.nn.Linear(lsz[i], lsz[i+1], key=ktup[i]))\n",
    "        #self.convlayers = convlayers\n",
    "        layers = []\n",
    "        for i in range(len(lsz)-1):\n",
    "            layers.append(eqx.nn.Linear(lsz[i], lsz[i+1], key=ktup[i]))\n",
    "        self.layers = layers\n",
    "    def __call__(self, x):\n",
    "        x = jnp.ravel(x)\n",
    "        # for layer in self.convlayers:\n",
    "        #     x = config.activation(layer(x))\n",
    "        #x = jnp.ravel(x)\n",
    "        for layer in self.layers[:-1]:\n",
    "            x = config.activation(layer(x))\n",
    "        x = self.layers[-1](x)\n",
    "        return jnp.reshape(x, (config.btwidth, 3))\n",
    "\n",
    "        \n",
    "        "
   ]
  },
  {
   "cell_type": "code",
   "execution_count": 987,
   "id": "c5335e5f-e94f-46b7-b359-23ac94c75a89",
   "metadata": {},
   "outputs": [],
   "source": [
    "class TrunkNet(eqx.Module):\n",
    "    layers: list\n",
    "\n",
    "    def __init__(self, key, configuration):\n",
    "        lsz = configuration.trunknet_layersizes\n",
    "        ktup = jax.random.split(key, num=len(lsz)-1)\n",
    "        layers = []\n",
    "        for i in range(len(lsz)-1):\n",
    "            layers.append(eqx.nn.Linear(lsz[i], lsz[i+1], key=ktup[i]))\n",
    "        self.layers = layers\n",
    "    def __call__(self, x):\n",
    "        for layer in self.layers[:-1]:\n",
    "            x = config.activation(layer(x))\n",
    "        return self.layers[-1](x)\n",
    "\n",
    "        "
   ]
  },
  {
   "cell_type": "code",
   "execution_count": 988,
   "id": "9d8b8ba1-0c90-4228-9d37-7443cc26f638",
   "metadata": {},
   "outputs": [],
   "source": [
    "class DeepONet(eqx.Module):\n",
    "    branch: BranchNet\n",
    "    trunk: TrunkNet\n",
    "\n",
    "    def __init__(self, key, configuration):\n",
    "        key1, key2 = jax.random.split(key)\n",
    "        self.branch = BranchNet(key1, configuration)\n",
    "        self.trunk = TrunkNet(key2, configuration)\n",
    "    def __call__(self, u, y):\n",
    "        return jnp.sum(self.branch(u)*self.trunk(y)[...,None], axis=0)"
   ]
  },
  {
   "cell_type": "code",
   "execution_count": 989,
   "id": "bdb820f4-69a3-4690-936c-61677d2c34a9",
   "metadata": {},
   "outputs": [
    {
     "data": {
      "text/plain": [
       "(3, 16, 16)"
      ]
     },
     "execution_count": 989,
     "metadata": {},
     "output_type": "execute_result"
    }
   ],
   "source": [
    "example_u0.shape\n"
   ]
  },
  {
   "cell_type": "code",
   "execution_count": 990,
   "id": "2270dd31-8b55-45a8-80cc-2d69ab9cd857",
   "metadata": {},
   "outputs": [
    {
     "data": {
      "text/plain": [
       "Array([ 0.34078425, -0.29651982, -0.68439484], dtype=float32)"
      ]
     },
     "execution_count": 990,
     "metadata": {},
     "output_type": "execute_result"
    }
   ],
   "source": [
    "dn = DeepONet(mkey, config)\n",
    "dn(example_u0, jnp.array([0.1,0.1,0.1]))"
   ]
  },
  {
   "cell_type": "code",
   "execution_count": 1265,
   "id": "e7030f99-aa5c-4ea1-a00b-9eed4585ef71",
   "metadata": {},
   "outputs": [],
   "source": [
    "def veclaplace(f, X):\n",
    "    return jnp.sum(jax.jvp(jax.jacfwd(f), (X,), (jnp.array([1.0,1.0,0.0]),))[1], axis=-1)\n",
    "\n",
    "def pdeloss(model, u0, ypt):\n",
    "    cm = lambda y: model(u0, y)\n",
    "    lapl = veclaplace(cm, ypt)\n",
    "    sl = jnp.cross(model(u0,ypt), lapl)\n",
    "    st = jax.jvp(lambda y: model(u0,y), (ypt,), (jnp.array([0.0,0.0,1.0]),))[1]\n",
    "    return jnp.sum((st-sl)**2)\n",
    "\n",
    "@jax.jit\n",
    "def pdelosses(model, u0s, ypts):\n",
    "    fn = jax.vmap(jax.vmap(pdeloss, (None, None, 0)), (None, 0, None))\n",
    "    return 200*jnp.mean(fn(model, u0s, ypts))\n",
    "\n",
    "\n",
    "icpts = jnp.hstack([pts, jnp.zeros((len(pts),1))])\n",
    "\n",
    "@jax.jit\n",
    "def icloss(model, u0):\n",
    "    return config.icweight*jnp.mean((jax.vmap(model, (None, 0), out_axes=-1)(u0,icpts)-jnp.reshape(u0,(3,n*n)))**2)\n",
    "\n",
    "@jax.jit\n",
    "def icloss_tot(model, u0s):\n",
    "    return jnp.mean(jax.vmap(icloss, (None, 0))(model, u0s))\n",
    "\n",
    "@jax.jit\n",
    "def bcloss_onebc(model, u0, bcpts1, bcpts2):\n",
    "    bcvals1 = jax.vmap(model, (None, 0))(u0,bcpts1)\n",
    "    bcvals2 = jax.vmap(model, (None, 0))(u0,bcpts2)\n",
    "    return config.bcweight*jnp.mean((bcvals1-bcvals2)**2)\n",
    "@jax.jit\n",
    "\n",
    "def bcloss_onebc_dirichlet(model, u0, bcpt1, ideal):\n",
    "    bcval1 = model(u0,bcpt1)\n",
    "    return config.bcweight*jnp.mean((bcval1-ideal)**2)\n",
    "\n",
    "@jax.jit\n",
    "def bcloss(model, u0s):\n",
    "    bcloss_onebc_manyu = jax.vmap(bcloss_onebc, (None, 0, None, None))\n",
    "    return jnp.mean(bcloss_onebc_manyu(model, u0s, bcx0, bcx1) + bcloss_onebc_manyu(model, u0s, bcy0, bcy1))\n",
    "\n",
    "@jax.jit\n",
    "def bcloss_dirichlet_many(model, u0s, bcpts, ideal):\n",
    "    fn = jax.vmap(jax.vmap(bcloss_onebc_dirichlet, (None, None, 0, None)), (None, 0, None, None))\n",
    "    return jnp.mean(fn(model, u0s, bcpts, ideal))\n",
    "\n",
    "@jax.jit\n",
    "def bcloss_dirichlet_tot(model, u0s):\n",
    "    ideal = jnp.array([0.0,0.0,1.0])\n",
    "    return bcloss_dirichlet_many(model, u0s, allbcpts, ideal)\n",
    "\n",
    "def normloss(model, u0, ypt):\n",
    "    nrm = model(u0, ypt)\n",
    "    return config.normlossweight*jnp.abs(jnp.sum(nrm**2,axis=-1) - 1.0) / (config.nmesh_size1d**2)\n",
    "\n",
    "\n",
    "\n",
    "def norm_and_pde_loss(model, u0, ypt):\n",
    "    return normloss(model, u0, ypt) + pdeloss(model, u0, ypt)\n",
    "\n",
    "@jax.jit\n",
    "def norm_and_pde_losses(model, u0s, ypts):\n",
    "    fn = jax.vmap(jax.vmap(norm_and_pde_loss, (None, None, 0)), (None, 0, None))\n",
    "    return jnp.mean(fn(model, u0s, ypts))\n",
    "\n",
    "@jax.jit\n",
    "def loss(model, u0s):\n",
    "    return pdelosses(model, u0s, spacetimepts) + \\\n",
    "            icloss_tot(model, u0s) + \\\n",
    "            bcloss_dirichlet_tot(model, u0s)\n",
    "\n",
    "def print_losses(model, u0s, spacetimepts):\n",
    "    print(\"total\", loss(model, u0s))\n",
    "    print(\"ic\", icloss_tot(model, u0s))\n",
    "    print(\"bc\", bcloss_dirichlet_tot(model, u0s))\n",
    "    print(\"pde\", pdelosses(model, u0s, spacetimepts))"
   ]
  },
  {
   "cell_type": "code",
   "execution_count": 1280,
   "id": "44110b09-f77d-428d-a45b-df919c946b91",
   "metadata": {},
   "outputs": [],
   "source": [
    "space = UnitNormVec3RF(N=2)\n",
    "r2 = space.random(64)"
   ]
  },
  {
   "cell_type": "code",
   "execution_count": 1281,
   "id": "5b4cbbd0-631a-4fc6-8f54-012cf32f6108",
   "metadata": {},
   "outputs": [
    {
     "data": {
      "text/plain": [
       "(64, 3, 16, 16)"
      ]
     },
     "execution_count": 1281,
     "metadata": {},
     "output_type": "execute_result"
    }
   ],
   "source": [
    "u0s = space.eval_batch(r2, pts)\n",
    "u0s = jnp.reshape(u0s, (u0s.shape[0], 3, n, n))\n",
    "u0s.shape"
   ]
  },
  {
   "cell_type": "code",
   "execution_count": 1282,
   "id": "a6cdc046-d2a1-4641-823a-5feab4020c74",
   "metadata": {},
   "outputs": [
    {
     "data": {
      "image/png": "[encoded data removed]",
      "text/plain": [
       "<Figure size 640x480 with 2 Axes>"
      ]
     },
     "metadata": {},
     "output_type": "display_data"
    }
   ],
   "source": [
    "example_u0 = u0s[2]\n",
    "n = config.nmesh_size1d\n",
    "example_u0 = jnp.reshape(example_u0, (3,n,n))\n",
    "#example_u0 = jnp.moveaxis(example_u0, 2, 0)\n",
    "plt.imshow(example_u0[2])\n",
    "plt.colorbar()\n",
    "plt.show()"
   ]
  },
  {
   "cell_type": "code",
   "execution_count": 1283,
   "id": "2fad6b58-b1bc-42da-9f56-d5027f18a153",
   "metadata": {},
   "outputs": [],
   "source": [
    "def dataloader(array, batch_size):\n",
    "    dataset_size = array.shape[0]\n",
    "    indices = jnp.arange(dataset_size)\n",
    "    while True:\n",
    "        perm = jax.random.permutation(mkey,indices)\n",
    "        start = 0\n",
    "        end = batch_size\n",
    "        while end <= dataset_size:\n",
    "            batch_perm = perm[start:end]\n",
    "            yield array[batch_perm]\n",
    "            start = end\n",
    "            end = start + batch_size"
   ]
  },
  {
   "cell_type": "code",
   "execution_count": 1284,
   "id": "044d9309-ab00-4924-b734-9e25cbf2e6d6",
   "metadata": {},
   "outputs": [
    {
     "name": "stdout",
     "output_type": "stream",
     "text": [
      "total 0.021214776\n",
      "ic 0.005376742\n",
      "bc 0.0007048731\n",
      "pde 0.019925453\n"
     ]
    }
   ],
   "source": [
    "print_losses(dn, u0s, spacetimepts)"
   ]
  },
  {
   "cell_type": "code",
   "execution_count": null,
   "id": "5edeccce-c482-45b2-b7cb-772316774edb",
   "metadata": {},
   "outputs": [],
   "source": []
  },
  {
   "cell_type": "code",
   "execution_count": 1285,
   "id": "f9a1cc9b-2e5c-4ceb-a06a-ded0ec7e1e86",
   "metadata": {},
   "outputs": [],
   "source": [
    "o = optax.adam(1e-6)\n",
    "opt_state = o.init(dn)\n",
    "tloss = loss"
   ]
  },
  {
   "cell_type": "code",
   "execution_count": 1286,
   "id": "28fadc54-ebc3-4ec1-b983-892cc8e6d4d6",
   "metadata": {},
   "outputs": [],
   "source": [
    "num_devices = len(jax.devices())\n",
    "devices = mesh_utils.create_device_mesh((num_devices, 1))\n",
    "shard = sharding.PositionalSharding(devices)\n",
    "\n",
    "jg = jax.jit(jax.value_and_grad(tloss))\n",
    "\n",
    "\n",
    "@jax.jit\n",
    "def make_step(model, opt_state, u0slice):\n",
    "    val, grads = jg(model, u0slice)\n",
    "    updates, opt_state = o.update(grads, opt_state)\n",
    "    model = optax.apply_updates(model, updates)\n",
    "    return model, opt_state\n",
    "    "
   ]
  },
  {
   "cell_type": "code",
   "execution_count": 1287,
   "id": "f1c3061f-543f-4198-806c-9ab4437e1464",
   "metadata": {},
   "outputs": [],
   "source": [
    "u0s_shard = jax.device_put(u0s, shard.reshape((num_devices,1,1,1)))"
   ]
  },
  {
   "cell_type": "raw",
   "id": "09e2a01d-b6db-42f0-8aac-da0135a1ad0b",
   "metadata": {},
   "source": [
    "num_steps = 2000\n",
    "for step, u0slice in zip(range(num_steps), dataloader(u0s, config.batchsize)):\n",
    "    u0slice = jax.device_put(u0slice, shard.reshape(num_devices,1,1,1))\n",
    "    dn, opt_state = make_step(dn, opt_state, u0slice)\n",
    "    if step % 100 == 0:\n",
    "        print(step, tloss(dn, u0s_shard))"
   ]
  },
  {
   "cell_type": "code",
   "execution_count": 1288,
   "id": "90dd2d66-8365-4a4f-98a4-2d3dc952654d",
   "metadata": {},
   "outputs": [
    {
     "name": "stdout",
     "output_type": "stream",
     "text": [
      "0 0.021214794\n",
      "50 0.021299683\n",
      "100 0.021221625\n",
      "150 0.021217674\n",
      "200 0.021158462\n",
      "250 0.021145817\n"
     ]
    },
    {
     "ename": "KeyboardInterrupt",
     "evalue": "",
     "output_type": "error",
     "traceback": [
      "\u001b[0;31m---------------------------------------------------------------------------\u001b[0m",
      "\u001b[0;31mKeyboardInterrupt\u001b[0m                         Traceback (most recent call last)",
      "Cell \u001b[0;32mIn[1288], line 13\u001b[0m\n\u001b[1;32m     11\u001b[0m     \u001b[38;5;28mprint\u001b[39m(i, val)\n\u001b[1;32m     12\u001b[0m updates, opt_state \u001b[38;5;241m=\u001b[39m jupdate(grads, opt_state)\n\u001b[0;32m---> 13\u001b[0m dn \u001b[38;5;241m=\u001b[39m \u001b[43moptax\u001b[49m\u001b[38;5;241;43m.\u001b[39;49m\u001b[43mapply_updates\u001b[49m\u001b[43m(\u001b[49m\u001b[43mdn\u001b[49m\u001b[43m,\u001b[49m\u001b[43m \u001b[49m\u001b[43mupdates\u001b[49m\u001b[43m)\u001b[49m\n",
      "File \u001b[0;32m/usr/local/lib/python3.10/dist-packages/optax/_src/update.py:42\u001b[0m, in \u001b[0;36mapply_updates\u001b[0;34m(params, updates)\u001b[0m\n\u001b[1;32m     24\u001b[0m \u001b[38;5;28;01mdef\u001b[39;00m \u001b[38;5;21mapply_updates\u001b[39m(params: base\u001b[38;5;241m.\u001b[39mParams, updates: base\u001b[38;5;241m.\u001b[39mUpdates) \u001b[38;5;241m-\u001b[39m\u001b[38;5;241m>\u001b[39m base\u001b[38;5;241m.\u001b[39mParams:\n\u001b[1;32m     25\u001b[0m \u001b[38;5;250m  \u001b[39m\u001b[38;5;124;03m\"\"\"Applies an update to the corresponding parameters.\u001b[39;00m\n\u001b[1;32m     26\u001b[0m \n\u001b[1;32m     27\u001b[0m \u001b[38;5;124;03m  This is a utility functions that applies an update to a set of parameters, and\u001b[39;00m\n\u001b[0;32m   (...)\u001b[0m\n\u001b[1;32m     40\u001b[0m \u001b[38;5;124;03m    Updated parameters, with same structure, shape and type as `params`.\u001b[39;00m\n\u001b[1;32m     41\u001b[0m \u001b[38;5;124;03m  \"\"\"\u001b[39;00m\n\u001b[0;32m---> 42\u001b[0m   \u001b[38;5;28;01mreturn\u001b[39;00m \u001b[43mjax\u001b[49m\u001b[38;5;241;43m.\u001b[39;49m\u001b[43mtree_util\u001b[49m\u001b[38;5;241;43m.\u001b[39;49m\u001b[43mtree_map\u001b[49m\u001b[43m(\u001b[49m\n\u001b[1;32m     43\u001b[0m \u001b[43m      \u001b[49m\u001b[38;5;28;43;01mlambda\u001b[39;49;00m\u001b[43m \u001b[49m\u001b[43mp\u001b[49m\u001b[43m,\u001b[49m\u001b[43m \u001b[49m\u001b[43mu\u001b[49m\u001b[43m:\u001b[49m\u001b[43m \u001b[49m\u001b[43mjnp\u001b[49m\u001b[38;5;241;43m.\u001b[39;49m\u001b[43masarray\u001b[49m\u001b[43m(\u001b[49m\u001b[43mp\u001b[49m\u001b[43m \u001b[49m\u001b[38;5;241;43m+\u001b[39;49m\u001b[43m \u001b[49m\u001b[43mu\u001b[49m\u001b[43m)\u001b[49m\u001b[38;5;241;43m.\u001b[39;49m\u001b[43mastype\u001b[49m\u001b[43m(\u001b[49m\u001b[43mjnp\u001b[49m\u001b[38;5;241;43m.\u001b[39;49m\u001b[43masarray\u001b[49m\u001b[43m(\u001b[49m\u001b[43mp\u001b[49m\u001b[43m)\u001b[49m\u001b[38;5;241;43m.\u001b[39;49m\u001b[43mdtype\u001b[49m\u001b[43m)\u001b[49m\u001b[43m,\u001b[49m\n\u001b[1;32m     44\u001b[0m \u001b[43m      \u001b[49m\u001b[43mparams\u001b[49m\u001b[43m,\u001b[49m\u001b[43m \u001b[49m\u001b[43mupdates\u001b[49m\u001b[43m)\u001b[49m\n",
      "File \u001b[0;32m/usr/local/lib/python3.10/dist-packages/jax/_src/tree_util.py:244\u001b[0m, in \u001b[0;36mtree_map\u001b[0;34m(f, tree, is_leaf, *rest)\u001b[0m\n\u001b[1;32m    242\u001b[0m leaves, treedef \u001b[38;5;241m=\u001b[39m tree_flatten(tree, is_leaf)\n\u001b[1;32m    243\u001b[0m all_leaves \u001b[38;5;241m=\u001b[39m [leaves] \u001b[38;5;241m+\u001b[39m [treedef\u001b[38;5;241m.\u001b[39mflatten_up_to(r) \u001b[38;5;28;01mfor\u001b[39;00m r \u001b[38;5;129;01min\u001b[39;00m rest]\n\u001b[0;32m--> 244\u001b[0m \u001b[38;5;28;01mreturn\u001b[39;00m \u001b[43mtreedef\u001b[49m\u001b[38;5;241;43m.\u001b[39;49m\u001b[43munflatten\u001b[49m\u001b[43m(\u001b[49m\u001b[43mf\u001b[49m\u001b[43m(\u001b[49m\u001b[38;5;241;43m*\u001b[39;49m\u001b[43mxs\u001b[49m\u001b[43m)\u001b[49m\u001b[43m \u001b[49m\u001b[38;5;28;43;01mfor\u001b[39;49;00m\u001b[43m \u001b[49m\u001b[43mxs\u001b[49m\u001b[43m \u001b[49m\u001b[38;5;129;43;01min\u001b[39;49;00m\u001b[43m \u001b[49m\u001b[38;5;28;43mzip\u001b[39;49m\u001b[43m(\u001b[49m\u001b[38;5;241;43m*\u001b[39;49m\u001b[43mall_leaves\u001b[49m\u001b[43m)\u001b[49m\u001b[43m)\u001b[49m\n",
      "File \u001b[0;32m/usr/local/lib/python3.10/dist-packages/jax/_src/tree_util.py:244\u001b[0m, in \u001b[0;36m<genexpr>\u001b[0;34m(.0)\u001b[0m\n\u001b[1;32m    242\u001b[0m leaves, treedef \u001b[38;5;241m=\u001b[39m tree_flatten(tree, is_leaf)\n\u001b[1;32m    243\u001b[0m all_leaves \u001b[38;5;241m=\u001b[39m [leaves] \u001b[38;5;241m+\u001b[39m [treedef\u001b[38;5;241m.\u001b[39mflatten_up_to(r) \u001b[38;5;28;01mfor\u001b[39;00m r \u001b[38;5;129;01min\u001b[39;00m rest]\n\u001b[0;32m--> 244\u001b[0m \u001b[38;5;28;01mreturn\u001b[39;00m treedef\u001b[38;5;241m.\u001b[39munflatten(\u001b[43mf\u001b[49m\u001b[43m(\u001b[49m\u001b[38;5;241;43m*\u001b[39;49m\u001b[43mxs\u001b[49m\u001b[43m)\u001b[49m \u001b[38;5;28;01mfor\u001b[39;00m xs \u001b[38;5;129;01min\u001b[39;00m \u001b[38;5;28mzip\u001b[39m(\u001b[38;5;241m*\u001b[39mall_leaves))\n",
      "File \u001b[0;32m/usr/local/lib/python3.10/dist-packages/optax/_src/update.py:43\u001b[0m, in \u001b[0;36mapply_updates.<locals>.<lambda>\u001b[0;34m(p, u)\u001b[0m\n\u001b[1;32m     24\u001b[0m \u001b[38;5;28;01mdef\u001b[39;00m \u001b[38;5;21mapply_updates\u001b[39m(params: base\u001b[38;5;241m.\u001b[39mParams, updates: base\u001b[38;5;241m.\u001b[39mUpdates) \u001b[38;5;241m-\u001b[39m\u001b[38;5;241m>\u001b[39m base\u001b[38;5;241m.\u001b[39mParams:\n\u001b[1;32m     25\u001b[0m \u001b[38;5;250m  \u001b[39m\u001b[38;5;124;03m\"\"\"Applies an update to the corresponding parameters.\u001b[39;00m\n\u001b[1;32m     26\u001b[0m \n\u001b[1;32m     27\u001b[0m \u001b[38;5;124;03m  This is a utility functions that applies an update to a set of parameters, and\u001b[39;00m\n\u001b[0;32m   (...)\u001b[0m\n\u001b[1;32m     40\u001b[0m \u001b[38;5;124;03m    Updated parameters, with same structure, shape and type as `params`.\u001b[39;00m\n\u001b[1;32m     41\u001b[0m \u001b[38;5;124;03m  \"\"\"\u001b[39;00m\n\u001b[1;32m     42\u001b[0m   \u001b[38;5;28;01mreturn\u001b[39;00m jax\u001b[38;5;241m.\u001b[39mtree_util\u001b[38;5;241m.\u001b[39mtree_map(\n\u001b[0;32m---> 43\u001b[0m       \u001b[38;5;28;01mlambda\u001b[39;00m p, u: jnp\u001b[38;5;241m.\u001b[39masarray(\u001b[43mp\u001b[49m\u001b[43m \u001b[49m\u001b[38;5;241;43m+\u001b[39;49m\u001b[43m \u001b[49m\u001b[43mu\u001b[49m)\u001b[38;5;241m.\u001b[39mastype(jnp\u001b[38;5;241m.\u001b[39masarray(p)\u001b[38;5;241m.\u001b[39mdtype),\n\u001b[1;32m     44\u001b[0m       params, updates)\n",
      "File \u001b[0;32m/usr/local/lib/python3.10/dist-packages/jax/_src/numpy/array_methods.py:269\u001b[0m, in \u001b[0;36m_defer_to_unrecognized_arg.<locals>.deferring_binary_op\u001b[0;34m(self, other)\u001b[0m\n\u001b[1;32m    267\u001b[0m args \u001b[38;5;241m=\u001b[39m (other, \u001b[38;5;28mself\u001b[39m) \u001b[38;5;28;01mif\u001b[39;00m swap \u001b[38;5;28;01melse\u001b[39;00m (\u001b[38;5;28mself\u001b[39m, other)\n\u001b[1;32m    268\u001b[0m \u001b[38;5;28;01mif\u001b[39;00m \u001b[38;5;28misinstance\u001b[39m(other, _accepted_binop_types):\n\u001b[0;32m--> 269\u001b[0m   \u001b[38;5;28;01mreturn\u001b[39;00m \u001b[43mbinary_op\u001b[49m\u001b[43m(\u001b[49m\u001b[38;5;241;43m*\u001b[39;49m\u001b[43margs\u001b[49m\u001b[43m)\u001b[49m\n\u001b[1;32m    270\u001b[0m \u001b[38;5;66;03m# Note: don't use isinstance here, because we don't want to raise for\u001b[39;00m\n\u001b[1;32m    271\u001b[0m \u001b[38;5;66;03m# subclasses, e.g. NamedTuple objects that may override operators.\u001b[39;00m\n\u001b[1;32m    272\u001b[0m \u001b[38;5;28;01mif\u001b[39;00m \u001b[38;5;28mtype\u001b[39m(other) \u001b[38;5;129;01min\u001b[39;00m _rejected_binop_types:\n",
      "\u001b[0;31mKeyboardInterrupt\u001b[0m: "
     ]
    }
   ],
   "source": [
    "jg = jax.jit(jax.value_and_grad(tloss))\n",
    "\n",
    "@jax.jit\n",
    "def jupdate(grads, opt_state):\n",
    "    return o.update(grads, opt_state)\n",
    "    \n",
    "for i in range(20000):\n",
    "    #print(f\"iter {i}\")\n",
    "    val, grads = jg(dn, u0s_shard)\n",
    "    if i % 50 == 0:\n",
    "        print(i, val)\n",
    "    updates, opt_state = jupdate(grads, opt_state)\n",
    "    dn = optax.apply_updates(dn, updates)"
   ]
  },
  {
   "cell_type": "code",
   "execution_count": 1243,
   "id": "bfc5a7f5-255d-4f4f-bc0a-9516ce7c6e0e",
   "metadata": {},
   "outputs": [
    {
     "name": "stdout",
     "output_type": "stream",
     "text": [
      "total 0.019423123\n",
      "ic 0.005274182\n",
      "bc 0.00048325988\n",
      "pde 0.00013656628\n"
     ]
    }
   ],
   "source": [
    "print_losses(dn, u0s, spacetimepts)"
   ]
  },
  {
   "cell_type": "code",
   "execution_count": null,
   "id": "2a1a259e-419a-411e-b981-a51e00cec3fa",
   "metadata": {},
   "outputs": [],
   "source": []
  },
  {
   "cell_type": "code",
   "execution_count": 1263,
   "id": "a151cc40-01ee-4764-8dac-bf4dfedeab40",
   "metadata": {},
   "outputs": [
    {
     "data": {
      "text/plain": [
       "<matplotlib.colorbar.Colorbar at 0x7f77bb3c6680>"
      ]
     },
     "execution_count": 1263,
     "metadata": {},
     "output_type": "execute_result"
    },
    {
     "data": {
      "image/png": "[encoded data removed]",
      "text/plain": [
       "<Figure size 640x480 with 2 Axes>"
      ]
     },
     "metadata": {},
     "output_type": "display_data"
    }
   ],
   "source": [
    "n = config.nmesh_size1d\n",
    "plt.imshow(u0s[3][1])\n",
    "plt.colorbar()"
   ]
  },
  {
   "cell_type": "code",
   "execution_count": 1264,
   "id": "c93dc360-764e-4f8b-ab3f-8beccc18ebd3",
   "metadata": {},
   "outputs": [
    {
     "data": {
      "text/plain": [
       "<matplotlib.colorbar.Colorbar at 0x7f77bbc777c0>"
      ]
     },
     "execution_count": 1264,
     "metadata": {},
     "output_type": "execute_result"
    },
    {
     "data": {
      "image/png": "[encoded data removed]",
      "text/plain": [
       "<Figure size 640x480 with 2 Axes>"
      ]
     },
     "metadata": {},
     "output_type": "display_data"
    }
   ],
   "source": [
    "eval=jax.vmap(dn, (None, 0))(u0s[3],jnp.hstack((pts,2.0*jnp.ones((n**2,1)))))\n",
    "eval = jnp.moveaxis(eval.reshape((n,n,3)), 2, 0)\n",
    "plt.imshow(eval[1])\n",
    "plt.colorbar()"
   ]
  },
  {
   "cell_type": "code",
   "execution_count": 689,
   "id": "0ed547a6-a40e-41e8-9e8e-dc2f72ab7a43",
   "metadata": {},
   "outputs": [
    {
     "data": {
      "text/plain": [
       "Array(0.2364273, dtype=float32)"
      ]
     },
     "execution_count": 689,
     "metadata": {},
     "output_type": "execute_result"
    }
   ],
   "source": [
    "jnp.mean((eval[:-1]-u0s[3][:-1])**2)*config.icweight"
   ]
  },
  {
   "cell_type": "code",
   "execution_count": 591,
   "id": "90951958-4b91-4cd7-a321-b98de6ef3da6",
   "metadata": {},
   "outputs": [
    {
     "data": {
      "text/plain": [
       "Array(0.01878591, dtype=float32)"
      ]
     },
     "execution_count": 591,
     "metadata": {},
     "output_type": "execute_result"
    }
   ],
   "source": [
    "icloss(dn, u0s[3])"
   ]
  },
  {
   "cell_type": "code",
   "execution_count": 1289,
   "id": "e6a33bc5-e11b-48ff-8388-6a5ee75cd7c1",
   "metadata": {},
   "outputs": [],
   "source": [
    "# import jaxopt\n",
    "\n",
    "def okloss(params):\n",
    "    return tloss(params, u0s_shard)\n",
    "\n"
   ]
  },
  {
   "cell_type": "code",
   "execution_count": 1290,
   "id": "51ee6120-875f-4b43-9c86-650e8e9c580e",
   "metadata": {},
   "outputs": [],
   "source": [
    "opt = jaxopt.LBFGS(okloss, value_and_grad=False, jit=True, unroll=True, history_size=20)"
   ]
  },
  {
   "cell_type": "code",
   "execution_count": 1291,
   "id": "914905d0-489a-4f11-a2e8-b35530f369ed",
   "metadata": {},
   "outputs": [],
   "source": [
    "state = opt.init_state(dn)"
   ]
  },
  {
   "cell_type": "code",
   "execution_count": 1292,
   "id": "20565971-2d1b-4d60-86ce-8522332696f4",
   "metadata": {},
   "outputs": [],
   "source": [
    "def jitted_update(params, state):\n",
    "    return opt.update(params, state)"
   ]
  },
  {
   "cell_type": "code",
   "execution_count": null,
   "id": "11ca6dcd-a960-433e-862f-b457b51faa44",
   "metadata": {},
   "outputs": [],
   "source": [
    "for i in range(1000):\n",
    "    # print(i)\n",
    "    dn, state = jitted_update(dn, state)\n",
    "    mloss = tloss(dn, u0s_shard)\n",
    "    if i % 10 == 0:\n",
    "        print(i, mloss)"
   ]
  },
  {
   "cell_type": "code",
   "execution_count": 1294,
   "id": "2aa5eb65-75c9-43ac-aacf-a80cddbfa110",
   "metadata": {},
   "outputs": [
    {
     "name": "stdout",
     "output_type": "stream",
     "text": [
      "total 0.020946886\n",
      "ic 0.005411828\n",
      "bc 0.0007146722\n",
      "pde 0.01948797\n"
     ]
    }
   ],
   "source": [
    "print_losses(dn, u0s, spacetimepts)"
   ]
  },
  {
   "cell_type": "code",
   "execution_count": 1295,
   "id": "2cd6adbf-82b8-4246-9159-76ba4b257965",
   "metadata": {},
   "outputs": [],
   "source": [
    "eqx.tree_serialise_leaves(\"ok.eqx\", dn)\n"
   ]
  },
  {
   "cell_type": "code",
   "execution_count": null,
   "id": "822472e2-773a-4e62-86f8-bab2bf3bfb89",
   "metadata": {},
   "outputs": [],
   "source": []
  }
 ],
 "metadata": {
  "kernelspec": {
   "display_name": "Python 3 (ipykernel)",
   "language": "python",
   "name": "python3"
  },
  "language_info": {
   "codemirror_mode": {
    "name": "ipython",
    "version": 3
   },
   "file_extension": ".py",
   "mimetype": "text/x-python",
   "name": "python",
   "nbconvert_exporter": "python",
   "pygments_lexer": "ipython3",
   "version": "3.10.12"
  }
 },
 "nbformat": 4,
 "nbformat_minor": 5
}
